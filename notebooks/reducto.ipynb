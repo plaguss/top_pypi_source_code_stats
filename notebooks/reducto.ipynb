{
 "cells": [
  {
   "cell_type": "code",
   "execution_count": 1,
   "id": "cf32ad28",
   "metadata": {},
   "outputs": [],
   "source": [
    "import src.visualization.visualize as viz\n",
    "import src.features.build_features as bf"
   ]
  },
  {
   "cell_type": "code",
   "execution_count": 2,
   "id": "2638a975",
   "metadata": {},
   "outputs": [
    {
     "data": {
      "text/html": [
       "<div>\n",
       "<style scoped>\n",
       "    .dataframe tbody tr th:only-of-type {\n",
       "        vertical-align: middle;\n",
       "    }\n",
       "\n",
       "    .dataframe tbody tr th {\n",
       "        vertical-align: top;\n",
       "    }\n",
       "\n",
       "    .dataframe thead th {\n",
       "        text-align: right;\n",
       "    }\n",
       "</style>\n",
       "<table border=\"1\" class=\"dataframe\">\n",
       "  <thead>\n",
       "    <tr style=\"text-align: right;\">\n",
       "      <th></th>\n",
       "      <th>lines</th>\n",
       "      <th>source_lines</th>\n",
       "      <th>blank_lines</th>\n",
       "      <th>docstring_lines</th>\n",
       "      <th>comment_lines</th>\n",
       "      <th>average_function_length</th>\n",
       "      <th>number_of_functions</th>\n",
       "      <th>source_files</th>\n",
       "    </tr>\n",
       "  </thead>\n",
       "  <tbody>\n",
       "    <tr>\n",
       "      <th>count</th>\n",
       "      <td>3.647000e+03</td>\n",
       "      <td>3.647000e+03</td>\n",
       "      <td>3647.000000</td>\n",
       "      <td>3647.000000</td>\n",
       "      <td>3647.000000</td>\n",
       "      <td>3647.000000</td>\n",
       "      <td>3647.000000</td>\n",
       "      <td>3647.000000</td>\n",
       "    </tr>\n",
       "    <tr>\n",
       "      <th>mean</th>\n",
       "      <td>1.402416e+04</td>\n",
       "      <td>9.545457e+03</td>\n",
       "      <td>1627.766109</td>\n",
       "      <td>2069.450233</td>\n",
       "      <td>781.485056</td>\n",
       "      <td>12.858514</td>\n",
       "      <td>534.454894</td>\n",
       "      <td>49.217987</td>\n",
       "    </tr>\n",
       "    <tr>\n",
       "      <th>std</th>\n",
       "      <td>8.349239e+04</td>\n",
       "      <td>5.984216e+04</td>\n",
       "      <td>9296.191124</td>\n",
       "      <td>18596.750779</td>\n",
       "      <td>3920.814374</td>\n",
       "      <td>40.615570</td>\n",
       "      <td>2418.541991</td>\n",
       "      <td>274.131266</td>\n",
       "    </tr>\n",
       "    <tr>\n",
       "      <th>min</th>\n",
       "      <td>1.000000e+00</td>\n",
       "      <td>0.000000e+00</td>\n",
       "      <td>0.000000</td>\n",
       "      <td>0.000000</td>\n",
       "      <td>0.000000</td>\n",
       "      <td>0.000000</td>\n",
       "      <td>0.000000</td>\n",
       "      <td>1.000000</td>\n",
       "    </tr>\n",
       "    <tr>\n",
       "      <th>25%</th>\n",
       "      <td>4.505000e+02</td>\n",
       "      <td>3.015000e+02</td>\n",
       "      <td>65.000000</td>\n",
       "      <td>24.000000</td>\n",
       "      <td>14.000000</td>\n",
       "      <td>6.000000</td>\n",
       "      <td>21.000000</td>\n",
       "      <td>3.000000</td>\n",
       "    </tr>\n",
       "    <tr>\n",
       "      <th>50%</th>\n",
       "      <td>1.603000e+03</td>\n",
       "      <td>1.077000e+03</td>\n",
       "      <td>224.000000</td>\n",
       "      <td>135.000000</td>\n",
       "      <td>71.000000</td>\n",
       "      <td>9.000000</td>\n",
       "      <td>81.000000</td>\n",
       "      <td>8.000000</td>\n",
       "    </tr>\n",
       "    <tr>\n",
       "      <th>75%</th>\n",
       "      <td>6.487000e+03</td>\n",
       "      <td>4.250500e+03</td>\n",
       "      <td>827.000000</td>\n",
       "      <td>662.500000</td>\n",
       "      <td>323.500000</td>\n",
       "      <td>14.000000</td>\n",
       "      <td>290.000000</td>\n",
       "      <td>28.000000</td>\n",
       "    </tr>\n",
       "    <tr>\n",
       "      <th>max</th>\n",
       "      <td>3.424155e+06</td>\n",
       "      <td>2.595086e+06</td>\n",
       "      <td>409215.000000</td>\n",
       "      <td>682666.000000</td>\n",
       "      <td>120610.000000</td>\n",
       "      <td>1562.000000</td>\n",
       "      <td>71735.000000</td>\n",
       "      <td>11315.000000</td>\n",
       "    </tr>\n",
       "  </tbody>\n",
       "</table>\n",
       "</div>"
      ],
      "text/plain": [
       "              lines  source_lines    blank_lines  docstring_lines  \\\n",
       "count  3.647000e+03  3.647000e+03    3647.000000      3647.000000   \n",
       "mean   1.402416e+04  9.545457e+03    1627.766109      2069.450233   \n",
       "std    8.349239e+04  5.984216e+04    9296.191124     18596.750779   \n",
       "min    1.000000e+00  0.000000e+00       0.000000         0.000000   \n",
       "25%    4.505000e+02  3.015000e+02      65.000000        24.000000   \n",
       "50%    1.603000e+03  1.077000e+03     224.000000       135.000000   \n",
       "75%    6.487000e+03  4.250500e+03     827.000000       662.500000   \n",
       "max    3.424155e+06  2.595086e+06  409215.000000    682666.000000   \n",
       "\n",
       "       comment_lines  average_function_length  number_of_functions  \\\n",
       "count    3647.000000              3647.000000          3647.000000   \n",
       "mean      781.485056                12.858514           534.454894   \n",
       "std      3920.814374                40.615570          2418.541991   \n",
       "min         0.000000                 0.000000             0.000000   \n",
       "25%        14.000000                 6.000000            21.000000   \n",
       "50%        71.000000                 9.000000            81.000000   \n",
       "75%       323.500000                14.000000           290.000000   \n",
       "max    120610.000000              1562.000000         71735.000000   \n",
       "\n",
       "       source_files  \n",
       "count   3647.000000  \n",
       "mean      49.217987  \n",
       "std      274.131266  \n",
       "min        1.000000  \n",
       "25%        3.000000  \n",
       "50%        8.000000  \n",
       "75%       28.000000  \n",
       "max    11315.000000  "
      ]
     },
     "execution_count": 2,
     "metadata": {},
     "output_type": "execute_result"
    }
   ],
   "source": [
    "reducto_table = bf.get_reducto_reports_table()\n",
    "reducto_table.describe()"
   ]
  },
  {
   "cell_type": "code",
   "execution_count": 11,
   "id": "4d771ff9",
   "metadata": {},
   "outputs": [
    {
     "data": {
      "text/plain": [
       "<AxesSubplot:xlabel='lines', ylabel='Count'>"
      ]
     },
     "execution_count": 11,
     "metadata": {},
     "output_type": "execute_result"
    },
    {
     "data": {
      "image/png": "[encoded data removed]",
      "text/plain": [
       "<Figure size 432x288 with 1 Axes>"
      ]
     },
     "metadata": {
      "needs_background": "light"
     },
     "output_type": "display_data"
    }
   ],
   "source": [
    "import numpy as np\n",
    "log_lines = reducto_table['lines'].apply(np.log)\n",
    "import seaborn as sns\n",
    "sns.histplot(log_lines, kde=True)\n",
    "#https://stackoverflow.com/questions/41940726/scipy-lognorm-fitting-to-histogram  # Review histplot"
   ]
  },
  {
   "cell_type": "code",
   "execution_count": 8,
   "id": "3c3d2ceb",
   "metadata": {},
   "outputs": [
    {
     "data": {
      "text/plain": [
       "1685.9980335615614"
      ]
     },
     "execution_count": 8,
     "metadata": {},
     "output_type": "execute_result"
    }
   ],
   "source": [
    "log_lines.mean()\n",
    "np.exp(7.430112972227527)"
   ]
  },
  {
   "cell_type": "code",
   "execution_count": null,
   "id": "7fc77d46",
   "metadata": {},
   "outputs": [],
   "source": []
  }
 ],
 "metadata": {
  "kernelspec": {
   "display_name": "Python 3 (ipykernel)",
   "language": "python",
   "name": "python3"
  },
  "language_info": {
   "codemirror_mode": {
    "name": "ipython",
    "version": 3
   },
   "file_extension": ".py",
   "mimetype": "text/x-python",
   "name": "python",
   "nbconvert_exporter": "python",
   "pygments_lexer": "ipython3",
   "version": "3.8.10"
  }
 },
 "nbformat": 4,
 "nbformat_minor": 5
}
